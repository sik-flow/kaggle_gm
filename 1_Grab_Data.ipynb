{
 "cells": [
  {
   "cell_type": "markdown",
   "metadata": {},
   "source": [
    "## Scrape Kaggle Rankings \n",
    "\n",
    "This notebook is used to scrape the following from Kaggle\n",
    "- Ranking \n",
    "- Name of Company\n",
    "- Job Title "
   ]
  },
  {
   "cell_type": "code",
   "execution_count": 10,
   "metadata": {},
   "outputs": [],
   "source": [
    "from selenium import webdriver\n",
    "from selenium.webdriver.common.keys import Keys\n",
    "from bs4 import BeautifulSoup\n",
    "\n",
    "import time\n",
    "\n",
    "import pandas as pd\n",
    "import matplotlib.pyplot as plt"
   ]
  },
  {
   "cell_type": "markdown",
   "metadata": {},
   "source": [
    "Start with grabbing the URLs for the top 1,000 Kaggle Competitors "
   ]
  },
  {
   "cell_type": "code",
   "execution_count": 2,
   "metadata": {},
   "outputs": [],
   "source": [
    "# base url to scrape \n",
    "url = 'https://www.kaggle.com/rankings?group=competitions&page=1&pageSize=20'"
   ]
  },
  {
   "cell_type": "code",
   "execution_count": 3,
   "metadata": {},
   "outputs": [],
   "source": [
    "# make driver element \n",
    "driver = webdriver.Chrome()\n",
    "driver.get(url)"
   ]
  },
  {
   "cell_type": "code",
   "execution_count": 34,
   "metadata": {},
   "outputs": [],
   "source": [
    "# grab html \n",
    "my_html = driver.page_source\n",
    "soup = BeautifulSoup(my_html, 'html.parser')\n",
    "kagglers = soup.findAll('div', 'leaderboards__item-wrapper null')"
   ]
  },
  {
   "cell_type": "code",
   "execution_count": 35,
   "metadata": {},
   "outputs": [
    {
     "data": {
      "text/plain": [
       "1020"
      ]
     },
     "execution_count": 35,
     "metadata": {},
     "output_type": "execute_result"
    }
   ],
   "source": [
    "len(kagglers)"
   ]
  },
  {
   "cell_type": "code",
   "execution_count": 36,
   "metadata": {},
   "outputs": [],
   "source": [
    "kaggler_rankings = []\n",
    "for counter, kag in enumerate(kagglers):\n",
    "    rank = int(kag.find('div','leaderboards__rank').text)\n",
    "    tier = kag.find('div','leaderboards__tier').find('img')['title']\n",
    "    url = kag.find('div','leaderboards__avatar').find('a')['href']\n",
    "    kag_res = {'rank': rank, 'tier': tier, 'url': url}\n",
    "    kaggler_rankings.append(kag_res)\n",
    "kaggle_df = pd.DataFrame(kaggler_rankings)"
   ]
  },
  {
   "cell_type": "code",
   "execution_count": 38,
   "metadata": {},
   "outputs": [
    {
     "data": {
      "text/html": [
       "<div>\n",
       "<style scoped>\n",
       "    .dataframe tbody tr th:only-of-type {\n",
       "        vertical-align: middle;\n",
       "    }\n",
       "\n",
       "    .dataframe tbody tr th {\n",
       "        vertical-align: top;\n",
       "    }\n",
       "\n",
       "    .dataframe thead th {\n",
       "        text-align: right;\n",
       "    }\n",
       "</style>\n",
       "<table border=\"1\" class=\"dataframe\">\n",
       "  <thead>\n",
       "    <tr style=\"text-align: right;\">\n",
       "      <th></th>\n",
       "      <th>rank</th>\n",
       "      <th>tier</th>\n",
       "      <th>url</th>\n",
       "    </tr>\n",
       "  </thead>\n",
       "  <tbody>\n",
       "    <tr>\n",
       "      <th>0</th>\n",
       "      <td>1</td>\n",
       "      <td>grandmaster</td>\n",
       "      <td>/philippsinger</td>\n",
       "    </tr>\n",
       "    <tr>\n",
       "      <th>1</th>\n",
       "      <td>2</td>\n",
       "      <td>grandmaster</td>\n",
       "      <td>/wowfattie</td>\n",
       "    </tr>\n",
       "    <tr>\n",
       "      <th>2</th>\n",
       "      <td>3</td>\n",
       "      <td>grandmaster</td>\n",
       "      <td>/christofhenkel</td>\n",
       "    </tr>\n",
       "    <tr>\n",
       "      <th>3</th>\n",
       "      <td>4</td>\n",
       "      <td>grandmaster</td>\n",
       "      <td>/bestfitting</td>\n",
       "    </tr>\n",
       "    <tr>\n",
       "      <th>4</th>\n",
       "      <td>5</td>\n",
       "      <td>grandmaster</td>\n",
       "      <td>/dott1718</td>\n",
       "    </tr>\n",
       "  </tbody>\n",
       "</table>\n",
       "</div>"
      ],
      "text/plain": [
       "   rank         tier              url\n",
       "0     1  grandmaster   /philippsinger\n",
       "1     2  grandmaster       /wowfattie\n",
       "2     3  grandmaster  /christofhenkel\n",
       "3     4  grandmaster     /bestfitting\n",
       "4     5  grandmaster        /dott1718"
      ]
     },
     "execution_count": 38,
     "metadata": {},
     "output_type": "execute_result"
    }
   ],
   "source": [
    "kaggle_df.head()"
   ]
  },
  {
   "cell_type": "markdown",
   "metadata": {},
   "source": [
    "Now that I have the URLs, I can get the job title and company they work at from their specific Kaggle page "
   ]
  },
  {
   "cell_type": "code",
   "execution_count": 39,
   "metadata": {},
   "outputs": [],
   "source": [
    "# add new columns to dataframe\n",
    "kaggle_df['job'] = ''\n",
    "kaggle_df['location'] = ''"
   ]
  },
  {
   "cell_type": "code",
   "execution_count": null,
   "metadata": {},
   "outputs": [],
   "source": [
    "driver_user = webdriver.Chrome()\n",
    "for counter, row in kaggle_df.iterrows():\n",
    "    if (counter > 0) & (counter % 10 == 0) & (counter % 100 != 0):\n",
    "        driver_user.close()\n",
    "        driver_user = webdriver.Chrome()\n",
    "        time.sleep(2)\n",
    "    elif (counter > 0) & (counter % 100 == 0):\n",
    "        print(counter)\n",
    "        driver_user.close()\n",
    "        time.sleep(900)\n",
    "        driver_user = webdriver.Chrome()\n",
    "    user_url = 'https://www.kaggle.com' + row['url']\n",
    "    driver_user.get(user_url)\n",
    "    time.sleep(2)\n",
    "    html = driver_user.execute_script(\"return document.getElementsByTagName('html')[0].innerHTML\")\n",
    "    time.sleep(2)\n",
    "    soup_user = BeautifulSoup(html, 'html.parser')\n",
    "    try:\n",
    "        c_j = soup_user.find('p', 'profile__user-occupation').text\n",
    "    except AttributeError:\n",
    "        c_j = 'unknown'\n",
    "    try:\n",
    "        loc = soup_user.find('p', 'profile__user-location').text\n",
    "    except AttributeError:\n",
    "        loc = 'unknown'\n",
    "    kaggle_df.loc[counter, 'job'] = c_j\n",
    "    kaggle_df.loc[counter, 'location'] = loc"
   ]
  },
  {
   "cell_type": "code",
   "execution_count": 165,
   "metadata": {},
   "outputs": [],
   "source": [
    "# save to computer\n",
    "kaggle_df.to_csv('kaggle_data.csv', index = False)"
   ]
  },
  {
   "cell_type": "code",
   "execution_count": 169,
   "metadata": {},
   "outputs": [],
   "source": [
    "# clean job \n",
    "title = []\n",
    "company = []\n",
    "\n",
    "for j in kaggle_df['job']:\n",
    "    split_on_at = j.split(' at ')\n",
    "    if len(split_on_at) == 2:\n",
    "        title.append(split_on_at[0].strip())\n",
    "        company.append(split_on_at[1].strip())\n",
    "    else:\n",
    "        title.append('unknown')\n",
    "        company.append('unknown')"
   ]
  },
  {
   "cell_type": "code",
   "execution_count": 170,
   "metadata": {},
   "outputs": [],
   "source": [
    "kaggle_df['title'] = title\n",
    "kaggle_df['company'] = company"
   ]
  },
  {
   "cell_type": "code",
   "execution_count": 181,
   "metadata": {},
   "outputs": [],
   "source": [
    "# save to computer\n",
    "kaggle_df.to_csv('kaggle_data.csv', index = False)"
   ]
  }
 ],
 "metadata": {
  "kernelspec": {
   "display_name": "learn-env",
   "language": "python",
   "name": "learn-env"
  },
  "language_info": {
   "codemirror_mode": {
    "name": "ipython",
    "version": 3
   },
   "file_extension": ".py",
   "mimetype": "text/x-python",
   "name": "python",
   "nbconvert_exporter": "python",
   "pygments_lexer": "ipython3",
   "version": "3.7.4"
  },
  "toc": {
   "base_numbering": 1,
   "nav_menu": {},
   "number_sections": true,
   "sideBar": true,
   "skip_h1_title": false,
   "title_cell": "Table of Contents",
   "title_sidebar": "Contents",
   "toc_cell": false,
   "toc_position": {},
   "toc_section_display": true,
   "toc_window_display": false
  }
 },
 "nbformat": 4,
 "nbformat_minor": 5
}
