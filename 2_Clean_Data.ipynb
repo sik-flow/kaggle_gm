{
 "cells": [
  {
   "cell_type": "markdown",
   "metadata": {},
   "source": [
    "## Notebook to Clean Data \n",
    "\n",
    "Notebook used to clean the company names "
   ]
  },
  {
   "cell_type": "code",
   "execution_count": 7,
   "metadata": {},
   "outputs": [],
   "source": [
    "import pandas as pd \n",
    "from fuzzywuzzy import fuzz"
   ]
  },
  {
   "cell_type": "code",
   "execution_count": 2,
   "metadata": {},
   "outputs": [
    {
     "data": {
      "text/html": [
       "<div>\n",
       "<style scoped>\n",
       "    .dataframe tbody tr th:only-of-type {\n",
       "        vertical-align: middle;\n",
       "    }\n",
       "\n",
       "    .dataframe tbody tr th {\n",
       "        vertical-align: top;\n",
       "    }\n",
       "\n",
       "    .dataframe thead th {\n",
       "        text-align: right;\n",
       "    }\n",
       "</style>\n",
       "<table border=\"1\" class=\"dataframe\">\n",
       "  <thead>\n",
       "    <tr style=\"text-align: right;\">\n",
       "      <th></th>\n",
       "      <th>rank</th>\n",
       "      <th>tier</th>\n",
       "      <th>url</th>\n",
       "      <th>job</th>\n",
       "      <th>location</th>\n",
       "      <th>title</th>\n",
       "      <th>company</th>\n",
       "      <th>country</th>\n",
       "    </tr>\n",
       "  </thead>\n",
       "  <tbody>\n",
       "    <tr>\n",
       "      <th>0</th>\n",
       "      <td>1</td>\n",
       "      <td>grandmaster</td>\n",
       "      <td>/philippsinger</td>\n",
       "      <td>Senior Data Scientist at H2O.AI</td>\n",
       "      <td>Vienna, Vienna, Austria</td>\n",
       "      <td>Senior Data Scientist</td>\n",
       "      <td>H2O.AI</td>\n",
       "      <td>Austria</td>\n",
       "    </tr>\n",
       "    <tr>\n",
       "      <th>1</th>\n",
       "      <td>2</td>\n",
       "      <td>grandmaster</td>\n",
       "      <td>/wowfattie</td>\n",
       "      <td>Data Scientist at H2O.ai</td>\n",
       "      <td>New York, New York, United States</td>\n",
       "      <td>Data Scientist</td>\n",
       "      <td>H2O.ai</td>\n",
       "      <td>United States</td>\n",
       "    </tr>\n",
       "    <tr>\n",
       "      <th>2</th>\n",
       "      <td>3</td>\n",
       "      <td>grandmaster</td>\n",
       "      <td>/christofhenkel</td>\n",
       "      <td>Deep Learning Data Scientist at Nvidia</td>\n",
       "      <td>Munich, Bavaria, Germany</td>\n",
       "      <td>Deep Learning Data Scientist</td>\n",
       "      <td>Nvidia</td>\n",
       "      <td>Germany</td>\n",
       "    </tr>\n",
       "  </tbody>\n",
       "</table>\n",
       "</div>"
      ],
      "text/plain": [
       "   rank         tier              url                                     job  \\\n",
       "0     1  grandmaster   /philippsinger         Senior Data Scientist at H2O.AI   \n",
       "1     2  grandmaster       /wowfattie                Data Scientist at H2O.ai   \n",
       "2     3  grandmaster  /christofhenkel  Deep Learning Data Scientist at Nvidia   \n",
       "\n",
       "                            location                         title company  \\\n",
       "0            Vienna, Vienna, Austria         Senior Data Scientist  H2O.AI   \n",
       "1  New York, New York, United States                Data Scientist  H2O.ai   \n",
       "2           Munich, Bavaria, Germany  Deep Learning Data Scientist  Nvidia   \n",
       "\n",
       "         country  \n",
       "0        Austria  \n",
       "1  United States  \n",
       "2        Germany  "
      ]
     },
     "execution_count": 2,
     "metadata": {},
     "output_type": "execute_result"
    }
   ],
   "source": [
    "# load in data \n",
    "df = pd.read_csv('kaggle_data.csv')\n",
    "df.head(3)"
   ]
  },
  {
   "cell_type": "code",
   "execution_count": 5,
   "metadata": {},
   "outputs": [],
   "source": [
    "# clean company names\n",
    "df['company'].replace(\"H2O ai\", 'H2O.AI', inplace = True)\n",
    "df['company'].replace(\"H2O\", 'H2O.AI', inplace = True)\n",
    "df['company'].replace('Nvidia (Rapids.ai)', 'Nvidia', inplace = True)\n",
    "df['company'].replace('NVIDIA', 'Nvidia', inplace = True)\n",
    "df['company'].replace('SamsungSDS', 'Samsung Electronics', inplace = True)\n",
    "df['company'].replace('the University of Tokyo', 'University of Tokyo', inplace = True)\n",
    "df['company'].replace('The University of Tokyo', 'University of Tokyo', inplace = True)\n",
    "df['company'].replace('Univercity of Tokyo', 'University of Tokyo', inplace = True)\n",
    "df['company'].replace('DeNA / Mobility Technologies', 'DeNA/Mobility Technologie', inplace = True)\n",
    "df['company'].replace('DeNA/Mobility Technologies', 'DeNA/Mobility Technologie', inplace = True)\n",
    "df['company'].replace('Recruit Co., Ltd.', 'Recruit Co. Ltd', inplace = True)\n",
    "df['company'].replace('Recruit', 'Recruit Co. Ltd', inplace = True)\n",
    "df['company'].replace('Mail Ru Group', 'Mail.ru Group', inplace = True)\n",
    "df['company'].replace('Layer6 AI', 'Layer6AI', inplace = True)\n",
    "df['company'].replace('layer6 ai', 'Layer6AI', inplace = True)\n",
    "df['company'].replace('Tata Consultancy Services Ltd', 'Tata Consultancy Services', inplace = True)\n",
    "df['company'].replace('idrive AI', 'IdriveAI', inplace = True)\n",
    "df['company'].replace('preferred networks, inc.', 'preferred networks', inplace = True)\n",
    "df['company'].replace('nvidia ai infrastructure', 'Nvidia')\n",
    "df['company'].replace('Mail.Ru', 'Mail.ru Group', inplace = True)\n",
    "df['company'].replace('Amazon Web Services', 'Amazon', inplace = True)\n",
    "df['company'].replace('Microsoft Research Asia', 'Microsoft', inplace = True)\n",
    "df['company'].replace('DeNA/Mobility Technologie', 'dena', inplace = True)"
   ]
  },
  {
   "cell_type": "code",
   "execution_count": 202,
   "metadata": {
    "scrolled": false
   },
   "outputs": [],
   "source": [
    "# look for matches that I may have missed using Fuzzy Wuzzy \n",
    "for company in df['company'].dropna().unique():\n",
    "    for company2 in df['company'].dropna().unique():\n",
    "        Ratio = fuzz.ratio(company.lower(),company2.lower())\n",
    "        if (Ratio >= 90) & (Ratio < 100):\n",
    "            print(company, company2, Ratio)"
   ]
  },
  {
   "cell_type": "code",
   "execution_count": 148,
   "metadata": {},
   "outputs": [],
   "source": [
    "# companies to drop \n",
    "\n",
    "companies_to_drop = ['unknown', 'home', 'japan', 'kaggle', '.', 'japanese company', 'nowhere', '...', 'self-employed',\n",
    "                    'none', 'night', 'howarts', 'university', 'it company', 'bank', 'tokyo', 'hogwarts',\n",
    "                    'beijing', 'consultant', '-', 'freelance', 'deep learning', 'tech company', 'automotive industry',\n",
    "                    'private', 'freelancer', 'pharmaceutical company', 'somewhere', 'xxx', 'china', 'earth',\n",
    "                    'a company', 'healthcare', '403', 'human being', 'artificial intelligence lab',\n",
    "                    '(-(-_(-_-)_-)-)', 'free lancer', 'my home', 'a', 'o', 'o.o', '-----', 'z', '_',\n",
    "                    'ml startup', 'a software company', 'high school', '..', 'university hospitals', 'nan',\n",
    "                    'myself', 'stealth', 'stealth mode startup', 'quant', 'private company',\n",
    "                    'life insurance company', ')', 'business school', 'ny', 'void*', 'a stealth fintech startup',\n",
    "                    'automotive components manufacturer', 'my free time', 'ml research', 'school',\n",
    "                     'a consulting firm', 'deeply reinforced nets', 'a media company', '__self__',\n",
    "                    'research & technologies company', 'fb.me/thaikeras', 'toronto', 'consulting company', 'work',\n",
    "                    'singapore', 'general hospital', 'cat cafe', 'fintech', 'berlin', 'kaggle / codeforces',\n",
    "                    'financial company', 'retired', '---', 'an ads company', 'jananese company', \n",
    "                     'entertainment company', 'data science', 'consumer electronics company', 'justforfun',\n",
    "                    'maternity hospital', 'big tech', 'the universe', 'self', 'looking for teammates',\n",
    "                    'bay area', '𝓚𝓪𝓰𝓰𝓵𝓮', 'a research institute', 'ad agency', 'null', 'automobile industry',\n",
    "                    'life', 'us', 'death star', 'in the stomach of mom', 'wherever is needed', 'developer', \n",
    "                    'technology company', 's', 'you', 'a joyous amount of tomfoolery', 'it corporation', \n",
    "                    '17', 'machine learning', 'tokyo tech', 'japanese traditional company', 'autonomous driving',\n",
    "                    'automaker', 'some place', 'college', 'medical research institute', '(independent)', 'p',\n",
    "                    'software house', '🦫', '__', 'marketing company', 'company', 'a scientist', 'a manufacturer',\n",
    "                    'it vendor']\n",
    "indices_to_drop = df[df['company'].str.lower().isin(companies_to_drop)].index\n",
    "df.drop(indices_to_drop, inplace = True)"
   ]
  },
  {
   "cell_type": "code",
   "execution_count": 212,
   "metadata": {},
   "outputs": [],
   "source": [
    "# save to computer\n",
    "df.to_csv('cleaned_kaggle.csv', index = False)"
   ]
  }
 ],
 "metadata": {
  "kernelspec": {
   "display_name": "Python 3",
   "language": "python",
   "name": "python3"
  },
  "language_info": {
   "codemirror_mode": {
    "name": "ipython",
    "version": 3
   },
   "file_extension": ".py",
   "mimetype": "text/x-python",
   "name": "python",
   "nbconvert_exporter": "python",
   "pygments_lexer": "ipython3",
   "version": "3.7.4"
  },
  "toc": {
   "base_numbering": 1,
   "nav_menu": {},
   "number_sections": true,
   "sideBar": true,
   "skip_h1_title": false,
   "title_cell": "Table of Contents",
   "title_sidebar": "Contents",
   "toc_cell": false,
   "toc_position": {},
   "toc_section_display": true,
   "toc_window_display": false
  }
 },
 "nbformat": 4,
 "nbformat_minor": 2
}
